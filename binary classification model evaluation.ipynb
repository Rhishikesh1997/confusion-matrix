{
 "cells": [
  {
   "cell_type": "code",
   "execution_count": 7,
   "id": "31b759ac",
   "metadata": {},
   "outputs": [
    {
     "data": {
      "image/png": "[encoded data removed]",
      "text/plain": [
       "<Figure size 432x288 with 2 Axes>"
      ]
     },
     "metadata": {
      "needs_background": "light"
     },
     "output_type": "display_data"
    }
   ],
   "source": [
    "import numpy as np\n",
    "import seaborn as sns\n",
    "import matplotlib.pyplot as plt\n",
    "from sklearn.metrics import confusion_matrix\n",
    "\n",
    "# Assuming you have the true labels and predicted labels stored in variables y_true and y_pred respectively\n",
    "y_true = [0, 1, 1, 0, 1, 0, 0, 1, 0, 1, 1, 1, 1, 0, 0, 1]\n",
    "y_pred = [0, 1, 0, 1, 1, 0, 1, 1, 0, 1, 1, 1, 1, 0, 0, 1]\n",
    "\n",
    "# Define the class labels\n",
    "class_labels = ['Spam', 'Non-Spam']\n",
    "\n",
    "# Compute the confusion matrix\n",
    "cm = confusion_matrix(y_true, y_pred)\n",
    "\n",
    "# Transpose the confusion matrix\n",
    "cm_transposed = np.transpose(cm)\n",
    "\n",
    "# Create a heatmap of the transposed confusion matrix\n",
    "sns.heatmap(cm_transposed, annot=True, cmap=\"Blues\", xticklabels=class_labels, yticklabels=class_labels)\n",
    "\n",
    "# Add labels, title, and axis ticks\n",
    "plt.xlabel('True Class Labels')\n",
    "plt.ylabel('Predicted Class Labels')\n",
    "plt.title('Confusion Matrix')\n",
    "\n",
    "# Show the plot\n",
    "plt.show()\n"
   ]
  },
  {
   "cell_type": "code",
   "execution_count": 20,
   "id": "752aa67d",
   "metadata": {},
   "outputs": [
    {
     "name": "stdout",
     "output_type": "stream",
     "text": [
      "precision : 0.8333333333333334\n",
      "racall/TPR : 0.7142857142857143\n",
      "F1-score : 0.7692307692307692\n",
      "accuracy : 0.8125\n",
      "specificity : 0.8888888888888888\n",
      "FPR : 0.1111111111111111\n",
      "FNR : 0.2857142857142857\n"
     ]
    }
   ],
   "source": [
    "# precision , recall/TPR , f1 score , accuracy , TNR/specificity , FPR , FNR\n",
    "\n",
    "TP=5\n",
    "FP=1\n",
    "FN=2\n",
    "TN=8\n",
    "\n",
    "#precision\n",
    "precision= TP / (TP+FP)\n",
    "print(\"precision : {}\".format(precision))\n",
    "\n",
    "# reacll\n",
    "recall=TP/(TP+FN)\n",
    "print(\"racall/TPR : {}\".format(recall))\n",
    "\n",
    "#f1score\n",
    "f1_Score=(2*precision*recall)/(precision+recall)\n",
    "print(\"F1-score : {}\".format(f1_Score))\n",
    "\n",
    "#accuracy\n",
    "accuracy=(TP+TN)/(TP+TN+FP+FN)\n",
    "print(\"accuracy : {}\".format(accuracy))\n",
    "\n",
    "#TNR/specificity\n",
    "specificity=TN/(TN+FP)\n",
    "print(\"specificity : {}\".format(specificity))\n",
    "\n",
    "#FPR\n",
    "FPR=FP/(FP+TN)\n",
    "print(\"FPR : {}\".format(FPR))\n",
    "\n",
    "#FNR\n",
    "FNR=FN/(TP+FN)\n",
    "print(\"FNR : {}\".format(FNR))\n"
   ]
  },
  {
   "cell_type": "code",
   "execution_count": 21,
   "id": "b428a723",
   "metadata": {},
   "outputs": [],
   "source": [
    "from sklearn.metrics import classification_report"
   ]
  },
  {
   "cell_type": "code",
   "execution_count": 23,
   "id": "d53d5cb6",
   "metadata": {},
   "outputs": [
    {
     "name": "stdout",
     "output_type": "stream",
     "text": [
      "              precision    recall  f1-score   support\n",
      "\n",
      "           0       0.83      0.71      0.77         7\n",
      "           1       0.80      0.89      0.84         9\n",
      "\n",
      "    accuracy                           0.81        16\n",
      "   macro avg       0.82      0.80      0.81        16\n",
      "weighted avg       0.81      0.81      0.81        16\n",
      "\n"
     ]
    }
   ],
   "source": [
    "print(classification_report(y_true, y_pred))"
   ]
  },
  {
   "cell_type": "code",
   "execution_count": 26,
   "id": "666211b1",
   "metadata": {},
   "outputs": [
    {
     "name": "stdout",
     "output_type": "stream",
     "text": [
      "precision : 0.8\n",
      "racall/TPR : 0.8888888888888888\n",
      "F1-score : 0.8421052631578948\n",
      "accuracy : 0.8125\n",
      "specificity : 0.7142857142857143\n",
      "FPR : 0.2857142857142857\n",
      "FNR : 0.1111111111111111\n"
     ]
    }
   ],
   "source": [
    "# precision , recall/TPR , f1 score , accuracy , TNR/specificity , FPR , FNR\n",
    "# in case of non spam class\n",
    "TP=8\n",
    "FP=2\n",
    "FN=1\n",
    "TN=5\n",
    "\n",
    "#precision\n",
    "precision= TP / (TP+FP)\n",
    "print(\"precision : {}\".format(precision))\n",
    "\n",
    "# reacll\n",
    "recall=TP/(TP+FN)\n",
    "print(\"racall/TPR : {}\".format(recall))\n",
    "\n",
    "#f1score\n",
    "f1_Score=(2*precision*recall)/(precision+recall)\n",
    "print(\"F1-score : {}\".format(f1_Score))\n",
    "\n",
    "#accuracy\n",
    "accuracy=(TP+TN)/(TP+TN+FP+FN)\n",
    "print(\"accuracy : {}\".format(accuracy))\n",
    "\n",
    "#TNR/specificity\n",
    "specificity=TN/(TN+FP)\n",
    "print(\"specificity : {}\".format(specificity))\n",
    "\n",
    "#FPR\n",
    "FPR=FP/(FP+TN)\n",
    "print(\"FPR : {}\".format(FPR))\n",
    "\n",
    "#FNR\n",
    "FNR=FN/(TP+FN)\n",
    "print(\"FNR : {}\".format(FNR))\n"
   ]
  },
  {
   "cell_type": "code",
   "execution_count": 27,
   "id": "a02866c2",
   "metadata": {},
   "outputs": [
    {
     "name": "stdout",
     "output_type": "stream",
     "text": [
      "              precision    recall  f1-score   support\n",
      "\n",
      "           0       0.83      0.71      0.77         7\n",
      "           1       0.80      0.89      0.84         9\n",
      "\n",
      "    accuracy                           0.81        16\n",
      "   macro avg       0.82      0.80      0.81        16\n",
      "weighted avg       0.81      0.81      0.81        16\n",
      "\n"
     ]
    }
   ],
   "source": [
    "print(classification_report(y_true, y_pred))"
   ]
  },
  {
   "cell_type": "markdown",
   "id": "d1782086",
   "metadata": {},
   "source": [
    "##  Example 1 : Precision is Important (e.g. Spam Email Detection)\n",
    "In the context of spam email detection, precision is crucial. High precision means that the classifier's predictions of spam emails are accurate, minimizing false positives. False positives occur when non-spam emails are classified as spam and end up in the spam folder. In this case, precision is more important because we want to avoid falsely flagging important emails as spam.\n",
    "\n",
    "Imagine a scenario where the system has high precision but moderate recall. It means that when the system flags an email as spam, it is highly likely to be an actual spam email. This is essential because false positives can be disruptive, causing users to miss important emails that end up in the spam folder. By maintaining high precision, you can minimize false positives and ensure that non-spam emails are not wrongly classified as spam.\n",
    "\n",
    "## Example 2 : Recall is Important (e.g. Disease Detection)\n",
    "Consider a scenario where the goal is to detect a rare but severe disease. In this case, recall becomes more critical. Recall measures the ability of the classifier to correctly identify positive instances (disease cases) out of the total actual positive instances. It is crucial to identify all positive cases, even if it means having some false positives. Missing a true positive (i.e., a diseased patient) can have severe consequences, so recall becomes the priority in this scenario.\n",
    "Consider a medical scenario where you are developing a diagnostic tool to detect a rare but life-threatening disease. The tool is designed to analyze various medical tests and provide a diagnosis of whether a patient has the disease or not. In this case, recall becomes the priority.\n",
    "\n",
    "If the diagnostic tool has high recall but lower precision, it means that it can effectively identify most of the patients who have the disease (true positives), even if it occasionally identifies some healthy individuals as having the disease (false positives). While false positives can lead to additional tests or unnecessary treatments for healthy individuals, missing a true positive (i.e., failing to diagnose a patient with the disease) can have severe consequences, potentially delaying treatment and impacting patient outcomes. Hence, in this scenario, maximizing recall is critical to ensure that no positive cases are missed.\n"
   ]
  },
  {
   "cell_type": "code",
   "execution_count": null,
   "id": "878f41b6",
   "metadata": {},
   "outputs": [],
   "source": []
  },
  {
   "cell_type": "code",
   "execution_count": null,
   "id": "7ed6192f",
   "metadata": {},
   "outputs": [],
   "source": []
  },
  {
   "cell_type": "code",
   "execution_count": null,
   "id": "a105cba2",
   "metadata": {},
   "outputs": [],
   "source": []
  },
  {
   "cell_type": "code",
   "execution_count": null,
   "id": "f9c1e3a4",
   "metadata": {},
   "outputs": [],
   "source": []
  },
  {
   "cell_type": "code",
   "execution_count": null,
   "id": "efb580cb",
   "metadata": {},
   "outputs": [],
   "source": []
  },
  {
   "cell_type": "code",
   "execution_count": null,
   "id": "dae208b2",
   "metadata": {},
   "outputs": [],
   "source": []
  },
  {
   "cell_type": "code",
   "execution_count": null,
   "id": "92efbcc4",
   "metadata": {},
   "outputs": [],
   "source": []
  },
  {
   "cell_type": "code",
   "execution_count": null,
   "id": "23656199",
   "metadata": {},
   "outputs": [],
   "source": []
  },
  {
   "cell_type": "code",
   "execution_count": null,
   "id": "9a760dd7",
   "metadata": {},
   "outputs": [],
   "source": []
  },
  {
   "cell_type": "code",
   "execution_count": null,
   "id": "74959acf",
   "metadata": {},
   "outputs": [],
   "source": []
  },
  {
   "cell_type": "code",
   "execution_count": null,
   "id": "0b596751",
   "metadata": {},
   "outputs": [],
   "source": []
  },
  {
   "cell_type": "code",
   "execution_count": null,
   "id": "a3a6c191",
   "metadata": {},
   "outputs": [],
   "source": []
  },
  {
   "cell_type": "code",
   "execution_count": null,
   "id": "6c08a6c2",
   "metadata": {},
   "outputs": [],
   "source": []
  },
  {
   "cell_type": "code",
   "execution_count": null,
   "id": "37786b86",
   "metadata": {},
   "outputs": [],
   "source": []
  },
  {
   "cell_type": "code",
   "execution_count": null,
   "id": "361b4461",
   "metadata": {},
   "outputs": [],
   "source": []
  },
  {
   "cell_type": "code",
   "execution_count": null,
   "id": "f73042d5",
   "metadata": {},
   "outputs": [],
   "source": []
  },
  {
   "cell_type": "code",
   "execution_count": null,
   "id": "b106802a",
   "metadata": {},
   "outputs": [],
   "source": []
  },
  {
   "cell_type": "markdown",
   "id": "84eb1349",
   "metadata": {},
   "source": [
    "##  Example 1 : Precision is Important (e.g., Spam Email Detection)\n",
    "In the context of spam email detection, precision is crucial. High precision means that the classifier's predictions of spam emails are accurate, minimizing false positives. False positives occur when non-spam emails are classified as spam and end up in the spam folder. In this case, precision is more important because we want to avoid falsely flagging important emails as spam.\n",
    "\n",
    "Imagine a scenario where the system has high precision but moderate recall. It means that when the system flags an email as spam, it is highly likely to be an actual spam email. This is essential because false positives can be disruptive, causing users to miss important emails that end up in the spam folder. By maintaining high precision, you can minimize false positives and ensure that non-spam emails are not wrongly classified as spam.\n",
    "\n",
    "## Example 2 : Recall is Important (e.g., Disease Detection)\n",
    "Consider a scenario where the goal is to detect a rare but severe disease. In this case, recall becomes more critical. Recall measures the ability of the classifier to correctly identify positive instances (disease cases) out of the total actual positive instances. It is crucial to identify all positive cases, even if it means having some false positives. Missing a true positive (i.e., a diseased patient) can have severe consequences, so recall becomes the priority in this scenario.\n",
    "Consider a medical scenario where you are developing a diagnostic tool to detect a rare but life-threatening disease. The tool is designed to analyze various medical tests and provide a diagnosis of whether a patient has the disease or not. In this case, recall becomes the priority.\n",
    "\n",
    "If the diagnostic tool has high recall but lower precision, it means that it can effectively identify most of the patients who have the disease (true positives), even if it occasionally identifies some healthy individuals as having the disease (false positives). While false positives can lead to additional tests or unnecessary treatments for healthy individuals, missing a true positive (i.e., failing to diagnose a patient with the disease) can have severe consequences, potentially delaying treatment and impacting patient outcomes. Hence, in this scenario, maximizing recall is critical to ensure that no positive cases are missed.\n"
   ]
  },
  {
   "cell_type": "code",
   "execution_count": 14,
   "id": "49c7efea",
   "metadata": {},
   "outputs": [
    {
     "name": "stdout",
     "output_type": "stream",
     "text": [
      "precision : 0.8333333333333334\n",
      "Recall/TPR : 0.7142857142857143\n",
      "Recall : 0.7692307692307692\n",
      "Accuracy : 0.8125\n",
      "TNR/ Specificity : 0.8888888888888888\n",
      "FNR : 0.2857142857142857\n",
      "FPR : 0.1111111111111111\n"
     ]
    }
   ],
   "source": [
    "##calculating evaluation metrics for spam class\n",
    "TP=5\n",
    "FP=1\n",
    "FN=2\n",
    "TN=8\n",
    "\n",
    "precision=TP/(TP+FP)\n",
    "print(\"precision : {}\".format(precision))\n",
    "\n",
    "recall=TP/(TP+FN)\n",
    "print(\"Recall/TPR : {}\".format(recall))\n",
    "\n",
    "f1_score = (2 * precision * recall) / (precision + recall)\n",
    "print(\"Recall : {}\".format(f1_score))\n",
    "\n",
    "accuracy=(TP+TN)/(TP+TN+FP+FN)\n",
    "print(\"Accuracy : {}\".format(accuracy))\n",
    "\n",
    "specificity=TN/(TN+FP)\n",
    "print(\"TNR/ Specificity : {}\".format(specificity))\n",
    "\n",
    "FNR=FN/(FN+TP)\n",
    "print(\"FNR : {}\".format(FNR))\n",
    "\n",
    "FPR=FP/(FP+TN)\n",
    "print(\"FPR : {}\".format(FPR))"
   ]
  },
  {
   "cell_type": "markdown",
   "id": "f2ef1a2c",
   "metadata": {},
   "source": [
    "# Note\n",
    "\n",
    "#### These precision, recalll and F1-Score metrics are bounded between 0 and 1 because they are proportions or ratios of different types of predictions made by the model, relative to the actual instances in the dataset. Values close to 1 indicate better performance, while values close to 0 indicate poorer performance in terms of precision, recall, or F1-score."
   ]
  },
  {
   "cell_type": "code",
   "execution_count": 71,
   "id": "463ca1f0",
   "metadata": {},
   "outputs": [
    {
     "name": "stdout",
     "output_type": "stream",
     "text": [
      "              precision    recall  f1-score   support\n",
      "\n",
      "    non-spam       0.80      0.89      0.84         9\n",
      "        spam       0.83      0.71      0.77         7\n",
      "\n",
      "    accuracy                           0.81        16\n",
      "   macro avg       0.82      0.80      0.81        16\n",
      "weighted avg       0.81      0.81      0.81        16\n",
      "\n"
     ]
    }
   ],
   "source": [
    "print(classification_report(y_true_mapped,y_pred_mapped))"
   ]
  },
  {
   "cell_type": "code",
   "execution_count": 16,
   "id": "ebbb2f49",
   "metadata": {},
   "outputs": [
    {
     "name": "stdout",
     "output_type": "stream",
     "text": [
      "precision : 0.8\n",
      "Recall/TPR : 0.8888888888888888\n",
      "F1-Score : 0.8421052631578948\n",
      "Accuracy : 0.8125\n",
      "TNR/ Specificity : 0.7142857142857143\n",
      "FNR : 0.1111111111111111\n",
      "FPR : 0.2857142857142857\n"
     ]
    }
   ],
   "source": [
    "##calculating evaluation metrics for non-spam class\n",
    "TP=8\n",
    "FP=2\n",
    "FN=1\n",
    "TN=5\n",
    "\n",
    "precision=TP/(TP+FP)\n",
    "print(\"precision : {}\".format(precision))\n",
    "\n",
    "recall=TP/(TP+FN)\n",
    "print(\"Recall/TPR : {}\".format(recall))\n",
    "\n",
    "f1_score = (2 * precision * recall) / (precision + recall)\n",
    "print(\"F1-Score : {}\".format(f1_score))\n",
    "\n",
    "accuracy=(TP+TN)/(TP+TN+FP+FN)\n",
    "print(\"Accuracy : {}\".format(accuracy))\n",
    "\n",
    "specificity=TN/(TN+FP)\n",
    "print(\"TNR/ Specificity : {}\".format(specificity))\n",
    "\n",
    "FNR=FN/(FN+TP)\n",
    "print(\"FNR : {}\".format(FNR))\n",
    "\n",
    "FPR=FP/(FP+TN)\n",
    "print(\"FPR : {}\".format(FPR))"
   ]
  },
  {
   "cell_type": "markdown",
   "id": "901e8c9a",
   "metadata": {},
   "source": [
    "##  Example 1 : Precision is Important (e.g., Spam Email Detection)\n",
    "In the context of spam email detection, precision is crucial. High precision means that the classifier's predictions of spam emails are accurate, minimizing false positives. False positives occur when non-spam emails are classified as spam and end up in the spam folder. In this case, precision is more important because we want to avoid falsely flagging important emails as spam.\n",
    "\n",
    "Imagine a scenario where the system has high precision but moderate recall. It means that when the system flags an email as spam, it is highly likely to be an actual spam email. This is essential because false positives can be disruptive, causing users to miss important emails that end up in the spam folder. By maintaining high precision, you can minimize false positives and ensure that non-spam emails are not wrongly classified as spam.\n",
    "\n",
    "## Example 2 : Recall is Important (e.g., Disease Detection)\n",
    "Consider a scenario where the goal is to detect a rare but severe disease. In this case, recall becomes more critical. Recall measures the ability of the classifier to correctly identify positive instances (disease cases) out of the total actual positive instances. It is crucial to identify all positive cases, even if it means having some false positives. Missing a true positive (i.e., a diseased patient) can have severe consequences, so recall becomes the priority in this scenario.\n",
    "Consider a medical scenario where you are developing a diagnostic tool to detect a rare but life-threatening disease. The tool is designed to analyze various medical tests and provide a diagnosis of whether a patient has the disease or not. In this case, recall becomes the priority.\n",
    "\n",
    "If the diagnostic tool has high recall but lower precision, it means that it can effectively identify most of the patients who have the disease (true positives), even if it occasionally identifies some healthy individuals as having the disease (false positives). While false positives can lead to additional tests or unnecessary treatments for healthy individuals, missing a true positive (i.e., failing to diagnose a patient with the disease) can have severe consequences, potentially delaying treatment and impacting patient outcomes. Hence, in this scenario, maximizing recall is critical to ensure that no positive cases are missed.\n"
   ]
  },
  {
   "cell_type": "code",
   "execution_count": null,
   "id": "0231e3ad",
   "metadata": {},
   "outputs": [],
   "source": []
  }
 ],
 "metadata": {
  "kernelspec": {
   "display_name": "Python 3 (ipykernel)",
   "language": "python",
   "name": "python3"
  },
  "language_info": {
   "codemirror_mode": {
    "name": "ipython",
    "version": 3
   },
   "file_extension": ".py",
   "mimetype": "text/x-python",
   "name": "python",
   "nbconvert_exporter": "python",
   "pygments_lexer": "ipython3",
   "version": "3.7.0"
  }
 },
 "nbformat": 4,
 "nbformat_minor": 5
}
